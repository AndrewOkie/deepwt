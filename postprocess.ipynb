{
 "cells": [
  {
   "cell_type": "code",
   "execution_count": 4,
   "metadata": {},
   "outputs": [],
   "source": [
    "%matplotlib inline\n",
    "import matplotlib.pyplot as plt"
   ]
  },
  {
   "cell_type": "code",
   "execution_count": 108,
   "metadata": {},
   "outputs": [],
   "source": [
    "import os\n",
    "import glob\n",
    "import shutil\n",
    "import numpy as np\n",
    "\n",
    "import cv2\n",
    "import skimage\n",
    "from skimage.morphology import remove_small_objects, remove_small_holes, binary_erosion, binary_dilation\n",
    "\n",
    "output_folder = 'stage1_test_out'\n",
    "sub_folder = 'stage1_test_sub'"
   ]
  },
  {
   "cell_type": "code",
   "execution_count": 88,
   "metadata": {},
   "outputs": [],
   "source": [
    "for mask in glob.glob(output_folder + '/*_mask.png'):\n",
    "    os.makedirs(output_folder + '_masks', exist_ok=True)\n",
    "    shutil.move(mask, output_folder + '_masks')"
   ]
  },
  {
   "cell_type": "code",
   "execution_count": 127,
   "metadata": {},
   "outputs": [],
   "source": [
    "def rle_encoding(x):\n",
    "    dots = np.where(x.flatten() == 1)[0]\n",
    "    run_lengths = []\n",
    "    prev = -2\n",
    "    for b in dots:\n",
    "        if (b > prev + 1):\n",
    "            run_lengths.extend((b + 1, 0))\n",
    "        run_lengths[-1] += 1\n",
    "        prev = b\n",
    "    return run_lengths\n",
    "\n",
    "def get_rle(image):\n",
    "    for i in range(1, image.max() + 1):\n",
    "        yield rle_encoding(image == i)"
   ]
  },
  {
   "cell_type": "code",
   "execution_count": null,
   "metadata": {},
   "outputs": [],
   "source": [
    "image_ids = []\n",
    "rles = []\n",
    "\n",
    "for i, file in enumerate(os.listdir(output_folder)):\n",
    "    img_id = file[:-4]\n",
    "\n",
    "    image_path = os.path.join(output_folder, img_id + '.png')\n",
    "    masks_path = os.path.join(output_folder + '_masks', img_id + '_mask.png')\n",
    "\n",
    "    depth_image = cv2.imread(image_path, cv2.IMREAD_UNCHANGED)\n",
    "    masks_image = cv2.imread(masks_path, cv2.IMREAD_UNCHANGED)\n",
    "\n",
    "    masks_image = remove_small_objects((masks_image > 0), min_size=32)    \n",
    "    masks_image = binary_erosion(masks_image, selem=np.ones((5, 5)))\n",
    "    masks_image = binary_dilation(masks_image, selem=np.ones((7, 7)))\n",
    "    masks_image = remove_small_holes(masks_image, min_size=128)\n",
    "    \n",
    "    result_image = np.zeros(shape=depth_image.shape, dtype=np.float32)\n",
    "\n",
    "    cut_image = remove_small_objects((depth_image > 0), min_size=32)\n",
    "    cut_image = remove_small_holes(cut_image, min_size=128)\n",
    "    \n",
    "    cut_image = cut_image * masks_image\n",
    "    \n",
    "    cut_labels = skimage.morphology.label(cut_image)\n",
    "    \n",
    "    cut_ids = np.unique(cut_labels)[1:]\n",
    "    for instance_id in cut_ids:\n",
    "        instance_mask = binary_dilation((cut_labels == instance_id), np.ones((3, 3)))\n",
    "        instance_mask = remove_small_holes(instance_mask, min_size=32)\n",
    "        result_image[instance_mask] = instance_id\n",
    "\n",
    "    result_image = result_image.astype(np.uint16)\n",
    "    \n",
    "    #plt.figure(figsize=(8, 8))\n",
    "    #plt.imshow(cut_image, cmap='gray')\n",
    "    #plt.show()\n",
    "    \n",
    "    for rle in get_rle(result_image):\n",
    "        image_ids.append(img_id)\n",
    "        rles.append(rle)\n",
    "\n",
    "    if not result_image.any():\n",
    "        print('wtf')\n",
    "        \n",
    "    print(i)\n",
    "        \n",
    "    #cv2.imwrite(os.path.join(sub_folder, img_id + '.png'), result_image)"
   ]
  },
  {
   "cell_type": "code",
   "execution_count": null,
   "metadata": {},
   "outputs": [],
   "source": [
    "print(len(os.listdir(output_folder)))"
   ]
  },
  {
   "cell_type": "code",
   "execution_count": 176,
   "metadata": {},
   "outputs": [],
   "source": [
    "import pandas as pd\n",
    "\n",
    "submission = pd.DataFrame(data={'ImageId': image_ids,\n",
    "                                'EncodedPixels': [' '.join(map(str, x)) for x in rles]})"
   ]
  },
  {
   "cell_type": "code",
   "execution_count": 177,
   "metadata": {},
   "outputs": [],
   "source": [
    "submission.to_csv('./submission.csv', index=None)"
   ]
  },
  {
   "cell_type": "code",
   "execution_count": null,
   "metadata": {},
   "outputs": [],
   "source": []
  }
 ],
 "metadata": {
  "kernelspec": {
   "display_name": "Python 3",
   "language": "python",
   "name": "python3"
  },
  "language_info": {
   "codemirror_mode": {
    "name": "ipython",
    "version": 3
   },
   "file_extension": ".py",
   "mimetype": "text/x-python",
   "name": "python",
   "nbconvert_exporter": "python",
   "pygments_lexer": "ipython3",
   "version": "3.6.4"
  }
 },
 "nbformat": 4,
 "nbformat_minor": 2
}
