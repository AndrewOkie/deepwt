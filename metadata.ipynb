{
 "cells": [
  {
   "cell_type": "code",
   "execution_count": null,
   "metadata": {},
   "outputs": [],
   "source": [
    "import os\n",
    "import numpy as np\n",
    "import pandas as pd\n",
    "from tqdm import tqdm\n",
    "import cv2\n",
    "from skimage.transform import resize\n",
    "from sklearn.cluster import KMeans\n",
    "\n",
    "import torch\n",
    "from torchvision import models\n",
    "\n",
    "random_state = 42\n",
    "valid_size = 83\n",
    "\n",
    "dataset_dir = 'dataset_new'"
   ]
  },
  {
   "cell_type": "code",
   "execution_count": null,
   "metadata": {},
   "outputs": [],
   "source": [
    "def preprocess_image(img, target_size=(128, 128)):\n",
    "    x = resize(img, target_size, mode='constant').transpose(2, 0, 1)\n",
    "    x = torch.FloatTensor(x).unsqueeze(0)\n",
    "    x = torch.autograd.Variable(x, volatile=True)\n",
    "    if torch.cuda.is_available():\n",
    "        x = x.cuda()\n",
    "    return x"
   ]
  },
  {
   "cell_type": "code",
   "execution_count": null,
   "metadata": {},
   "outputs": [],
   "source": [
    "def vgg_extractor():\n",
    "    model = models.vgg16(pretrained=True)\n",
    "    if torch.cuda.is_available():\n",
    "        model = model.cuda()\n",
    "    model.eval()\n",
    "    return torch.nn.Sequential(*list(model.features.children())[:-1])"
   ]
  },
  {
   "cell_type": "code",
   "execution_count": null,
   "metadata": {},
   "outputs": [],
   "source": [
    "def cluster_features(features, n_clusters=10):\n",
    "    kmeans = KMeans(n_clusters=n_clusters, random_state=random_state)\n",
    "    kmeans.fit(features)\n",
    "    labels = kmeans.labels_\n",
    "    return labels"
   ]
  },
  {
   "cell_type": "code",
   "execution_count": null,
   "metadata": {},
   "outputs": [],
   "source": [
    "def get_vgg_clusters(dataset_dir, meta):\n",
    "    image_id = meta['image_id'].values\n",
    "\n",
    "    extractor = vgg_extractor()\n",
    "\n",
    "    features = []\n",
    "    for id in tqdm(image_id):\n",
    "        filepath = os.path.join(dataset_dir, id, 'masks.png')\n",
    "        img = cv2.imread(filepath)\n",
    "        img = img / 255.0\n",
    "        x = preprocess_image(img)\n",
    "        feature = extractor(x)\n",
    "        feature = np.ndarray.flatten(feature.cpu().data.numpy())\n",
    "        features.append(feature)\n",
    "    features = np.stack(features, axis=0)\n",
    "\n",
    "    labels = cluster_features(features)\n",
    "\n",
    "    return labels"
   ]
  },
  {
   "cell_type": "code",
   "execution_count": null,
   "metadata": {},
   "outputs": [],
   "source": [
    "df_metadata = pd.DataFrame(columns=['image_id', 'height', 'width', 'count', 'split'])\n",
    "\n",
    "for image_id in tqdm(sorted(os.listdir(dataset_dir))):\n",
    "    masks = cv2.imread(os.path.join(dataset_dir, image_id, 'masks.png'), cv2.IMREAD_UNCHANGED)\n",
    "    height, width = masks.shape\n",
    "    count = masks.max()\n",
    "\n",
    "    df_metadata = df_metadata.append({'image_id': image_id,\n",
    "                                      'height': height,\n",
    "                                      'width': width,\n",
    "                                      'count': count}, ignore_index=True)\n",
    "\n",
    "vgg_features_clusters = get_vgg_clusters(dataset_dir, df_metadata)\n",
    "df_metadata['vgg_features_clusters'] = vgg_features_clusters"
   ]
  },
  {
   "cell_type": "code",
   "execution_count": null,
   "metadata": {},
   "outputs": [],
   "source": [
    "categories = df_metadata['vgg_features_clusters'].unique()\n",
    "np.random.seed(random_state)\n",
    "valid_category_ids = np.random.choice(categories, valid_size)\n",
    "\n",
    "valid = df_metadata[df_metadata['vgg_features_clusters'] == 0].sample(n=valid_size, random_state=random_state)\n",
    "train = df_metadata.loc[~df_metadata.index.isin(valid.index)].copy()\n",
    "\n",
    "valid['split'] = 'valid'\n",
    "train['split'] = 'train'\n",
    "\n",
    "df_metadata = pd.concat([train, valid])\n",
    "df_metadata = df_metadata.sort_values('image_id')"
   ]
  },
  {
   "cell_type": "code",
   "execution_count": null,
   "metadata": {},
   "outputs": [],
   "source": [
    "meta_filepath = os.path.join(dataset_dir, 'metadata.csv')\n",
    "df_metadata.to_csv(meta_filepath, index=None)"
   ]
  },
  {
   "cell_type": "code",
   "execution_count": null,
   "metadata": {},
   "outputs": [],
   "source": []
  }
 ],
 "metadata": {
  "kernelspec": {
   "display_name": "Python 3",
   "language": "python",
   "name": "python3"
  },
  "language_info": {
   "codemirror_mode": {
    "name": "ipython",
    "version": 3
   },
   "file_extension": ".py",
   "mimetype": "text/x-python",
   "name": "python",
   "nbconvert_exporter": "python",
   "pygments_lexer": "ipython3",
   "version": "3.6.4"
  }
 },
 "nbformat": 4,
 "nbformat_minor": 2
}
