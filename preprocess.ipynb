{
 "cells": [
  {
   "cell_type": "code",
   "execution_count": null,
   "metadata": {},
   "outputs": [],
   "source": [
    "%matplotlib inline\n",
    "%load_ext autoreload\n",
    "%autoreload 2\n",
    "\n",
    "import os\n",
    "import glob\n",
    "from tqdm import tqdm\n",
    "import numpy as np\n",
    "import math\n",
    "import matplotlib.pyplot as plt\n",
    "import cv2\n",
    "from skimage.color import rgb2grey, rgb2hed\n",
    "from skimage.exposure import rescale_intensity, equalize_adapthist\n",
    "\n",
    "data_dir = 'dsb_2018_data'"
   ]
  },
  {
   "cell_type": "code",
   "execution_count": null,
   "metadata": {},
   "outputs": [],
   "source": [
    "def load_image_labels(folder):\n",
    "    image = glob.glob(folder + '/images/*')[0]\n",
    "    image = cv2.imread(image)[:, :, ::-1]\n",
    "    masks = glob.glob(folder + '/masks/*')\n",
    "    all_masks = []\n",
    "    for i, mask in enumerate(masks):\n",
    "        mask_img = np.sum(cv2.imread(mask), axis=-1)\n",
    "        mask_img = cv2.erode(mask_img.astype(np.uint8), np.ones((3, 3), np.uint8), iterations=1)\n",
    "        all_masks.append(((mask_img > 0).astype(np.int16) * (i + 1)))\n",
    "    if len(masks) == 0:\n",
    "        return image\n",
    "    return image, np.sum(all_masks, axis=0, dtype=np.uint16)"
   ]
  },
  {
   "cell_type": "code",
   "execution_count": null,
   "metadata": {},
   "outputs": [],
   "source": [
    "def is_stained(img):\n",
    "    red_mean, green_mean, blue_mean = img.mean(axis=(0, 1))\n",
    "    if red_mean == green_mean == blue_mean:\n",
    "        return False\n",
    "    else:\n",
    "        return True"
   ]
  },
  {
   "cell_type": "code",
   "execution_count": null,
   "metadata": {},
   "outputs": [],
   "source": [
    "def stain_deconvolve(img, mode='hematoxylin_eosin_sum'):\n",
    "    h, w = img.shape[:2]\n",
    "    img_hed = rgb2hed(img)\n",
    "    img_he_sum = np.zeros((h, w, 2))\n",
    "    img_he_sum[:, :, 0] = rescale_intensity(img_hed[:, :, 0], out_range=(0, 1))\n",
    "    img_he_sum[:, :, 1] = rescale_intensity(img_hed[:, :, 1], out_range=(0, 1))\n",
    "    img_deconv = rescale_intensity(img_he_sum.sum(axis=2), out_range=(0, 1))\n",
    "    return img_deconv"
   ]
  },
  {
   "cell_type": "code",
   "execution_count": null,
   "metadata": {},
   "outputs": [],
   "source": [
    "dest_folder = 'dataset_test'\n",
    "\n",
    "for folder in tqdm(glob.glob('{}/stage1_train/*'.format(data_dir))):\n",
    "    img, masks = load_image_labels(folder)\n",
    "    if is_stained(img):\n",
    "        img = stain_deconvolve(img)\n",
    "    else:\n",
    "        img = equalize_adapthist(img[:, :, 0])\n",
    "    if img.mean() > 0.5:\n",
    "        img = 1 - img\n",
    "    img = (img * 255).astype(np.uint8)\n",
    "\n",
    "    image_id = os.path.basename(folder)\n",
    "    os.makedirs(os.path.join(dest_folder, image_id), exist_ok=True)\n",
    "    cv2.imwrite(os.path.join(dest_folder, image_id, 'image.png'), img)\n",
    "    cv2.imwrite(os.path.join(dest_folder, image_id, 'masks.png'), masks)"
   ]
  },
  {
   "cell_type": "code",
   "execution_count": null,
   "metadata": {},
   "outputs": [],
   "source": []
  }
 ],
 "metadata": {
  "kernelspec": {
   "display_name": "Python 3",
   "language": "python",
   "name": "python3"
  },
  "language_info": {
   "codemirror_mode": {
    "name": "ipython",
    "version": 3
   },
   "file_extension": ".py",
   "mimetype": "text/x-python",
   "name": "python",
   "nbconvert_exporter": "python",
   "pygments_lexer": "ipython3",
   "version": "3.6.4"
  }
 },
 "nbformat": 4,
 "nbformat_minor": 2
}
